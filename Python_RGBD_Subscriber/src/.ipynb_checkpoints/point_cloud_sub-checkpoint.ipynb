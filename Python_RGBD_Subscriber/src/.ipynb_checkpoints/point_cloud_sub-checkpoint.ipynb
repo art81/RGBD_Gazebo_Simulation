{
 "cells": [
  {
   "cell_type": "markdown",
   "metadata": {
    "colab_type": "text",
    "id": "7L3k47F-WI4J"
   },
   "source": [
    "Helper Functions, Imports and Downloading Dataset"
   ]
  },
  {
   "cell_type": "code",
   "execution_count": null,
   "metadata": {
    "colab": {},
    "colab_type": "code",
    "id": "fBC9c-QPSU7N"
   },
   "outputs": [],
   "source": [
    "import rospy\n",
    "import rospkg\n",
    "import math\n",
    "from skimage.data import coins\n",
    "import matplotlib.pyplot as plt\n",
    "import cv2\n",
    "import numpy as np\n",
    "#from PIL import Image\n",
    "import pathlib\n",
    "import os\n",
    "import gluoncv as gcv\n",
    "import cairosvg\n",
    "from scipy import ndimage\n",
    "from pathlib import Path\n",
    "from sensor_msgs.msg import Image\n",
    "from cv_bridge import CvBridge, CvBridgeError\n",
    "from cv_bridge.boost.cv_bridge_boost import getCvType\n",
    "\n",
    "homePath   = os.path.expanduser(\"~\") #For Example '/home/andrew'\n",
    "\n",
    "# CV Bridge Stuff\n",
    "bridge = CvBridge()\n",
    "\n",
    "# Services to include\n",
    "from hmi_set_template_align.srv import SetTemplateAlignment, SetTemplateAlignmentResponse\n",
    "\n",
    "takeSnapshot = False\n",
    "cv_image = np.zeros(1) #meaningless init\n",
    "\n",
    "# Displays the inputted img\n",
    "def displayImage(img):\n",
    "\timg = img.astype(np.uint8)\n",
    "\timg = cv2.applyColorMap(img, cv2.COLORMAP_JET)\n",
    "\timg = (img/256).astype(np.uint8)\n",
    "    plt.figure()\n",
    "\tplt.imshow(img, cmap = 'jet')\n",
    "\tcv2.resizeWindow('image', 600,600)\n",
    "\tcv2.waitKey(0) # waits until a key is pressed\n",
    "\tcv2.destroyAllWindows() # destroys the window showing image\n",
    "\n",
    "# Callback Function for Image Data\n",
    "def imageCallback(data):\n",
    "\tglobal bridge, takeSnapshot, cv_image\n",
    "\n",
    "\tif takeSnapshot:\n",
    "\t\ttry:\n",
    "\t\t  cv_image = bridge.imgmsg_to_cv2(data, \"passthrough\")\n",
    "\t\texcept CvBridgeError as e:\n",
    "\t\t  print(e)\n",
    "\t\ttakeSnapshot = False\n",
    "\n",
    "\tdisplayImage(cv_image)\n",
    "\n",
    "# This function will take a picture from the simulated camera and return the cv object\n",
    "def get_snapshot():\n",
    "\tglobal takeSnapshot, cv_image\n",
    "\ttakeSnapshot = True\n",
    "\twhile (takeSnapshot):\n",
    "\t\trospy.sleep(0.1)\n",
    "\treturn cv_image\n",
    "\n",
    "\n",
    "rospy.init_node('test_node')\n",
    "\n",
    "# Initialize Image Subscriber\n",
    "rospy.Subscriber(\"/camera/color/image_raw\", Image, imageCallback)\n",
    "\n",
    "rospy.spin()\n"
   ]
  },
  {
   "cell_type": "code",
   "execution_count": null,
   "metadata": {},
   "outputs": [],
   "source": []
  }
 ],
 "metadata": {
  "accelerator": "GPU",
  "colab": {
   "collapsed_sections": [],
   "name": "Load_and_Display_Dataset.ipynb",
   "provenance": []
  },
  "kernelspec": {
   "display_name": "Python 3",
   "language": "python",
   "name": "python3"
  },
  "language_info": {
   "codemirror_mode": {
    "name": "ipython",
    "version": 3
   },
   "file_extension": ".py",
   "mimetype": "text/x-python",
   "name": "python",
   "nbconvert_exporter": "python",
   "pygments_lexer": "ipython3",
   "version": "3.7.6"
  }
 },
 "nbformat": 4,
 "nbformat_minor": 1
}
